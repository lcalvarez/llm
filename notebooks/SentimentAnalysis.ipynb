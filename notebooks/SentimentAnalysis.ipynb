{
 "cells": [
  {
   "cell_type": "markdown",
   "id": "3be2c3d7-e637-4ca0-b823-1442ce1ef014",
   "metadata": {},
   "source": [
    "# Sentiment Analysis with Hugging Face and DuckDB\n",
    "In this notebook, we're going to learn how to do sentiment analysis with Hugging Face and DuckDB."
   ]
  },
  {
   "cell_type": "markdown",
   "id": "0c88379d-de11-4f6b-b3b2-dd1c86ec1f2d",
   "metadata": {},
   "source": [
    "## Download the LLM\n",
    "We're going to write some code to manually download the model."
   ]
  },
  {
   "cell_type": "code",
   "execution_count": 3,
   "id": "5eba955c-10f9-435a-8f5c-a4f3148214f6",
   "metadata": {
    "execution": {
     "iopub.execute_input": "2023-08-01T08:48:03.131437Z",
     "iopub.status.busy": "2023-08-01T08:48:03.129978Z",
     "iopub.status.idle": "2023-08-01T08:48:03.262889Z",
     "shell.execute_reply": "2023-08-01T08:48:03.262599Z",
     "shell.execute_reply.started": "2023-08-01T08:48:03.131393Z"
    }
   },
   "outputs": [],
   "source": [
    "import os\n",
    "from huggingface_hub import hf_hub_download"
   ]
  },
  {
   "cell_type": "code",
   "execution_count": 5,
   "id": "e1769883-5d03-45a6-89a4-53d97a2b31cb",
   "metadata": {
    "execution": {
     "iopub.execute_input": "2023-08-01T08:48:07.207797Z",
     "iopub.status.busy": "2023-08-01T08:48:07.206055Z",
     "iopub.status.idle": "2023-08-01T08:48:07.220797Z",
     "shell.execute_reply": "2023-08-01T08:48:07.220026Z",
     "shell.execute_reply.started": "2023-08-01T08:48:07.207760Z"
    }
   },
   "outputs": [],
   "source": [
    "HUGGING_FACE_API_KEY = os.environ.get(\"HUGGING_FACE_API_KEY\")"
   ]
  },
  {
   "cell_type": "code",
   "execution_count": 1,
   "id": "f5d4a3cf-3aef-48a2-9d9c-c0e6f47b8ae9",
   "metadata": {
    "execution": {
     "iopub.execute_input": "2023-08-01T08:47:54.805091Z",
     "iopub.status.busy": "2023-08-01T08:47:54.804390Z",
     "iopub.status.idle": "2023-08-01T08:47:54.825008Z",
     "shell.execute_reply": "2023-08-01T08:47:54.821579Z",
     "shell.execute_reply.started": "2023-08-01T08:47:54.805058Z"
    }
   },
   "outputs": [],
   "source": [
    "model_id = \"cardiffnlp/twitter-roberta-base-sentiment\"\n",
    "filenames = [\n",
    "        \"pytorch_model.bin\", \"config.json\", \"merges.txt\",\n",
    "        \"special_tokens_map.json\", \"vocab.json\", \"tf_model.h5\", \"flax_model.msgpack\"\n",
    "]"
   ]
  },
  {
   "cell_type": "code",
   "execution_count": 6,
   "id": "8de36f22-0e89-4add-9c2b-bbb34c4d9d26",
   "metadata": {
    "execution": {
     "iopub.execute_input": "2023-08-01T08:48:08.712557Z",
     "iopub.status.busy": "2023-08-01T08:48:08.710649Z",
     "iopub.status.idle": "2023-08-01T09:02:52.008337Z",
     "shell.execute_reply": "2023-08-01T09:02:52.007853Z",
     "shell.execute_reply.started": "2023-08-01T08:48:08.712508Z"
    }
   },
   "outputs": [
    {
     "data": {
      "application/vnd.jupyter.widget-view+json": {
       "model_id": "994f08ce2f60429fa203823642f39a44",
       "version_major": 2,
       "version_minor": 0
      },
      "text/plain": [
       "Downloading pytorch_model.bin:   0%|          | 0.00/499M [00:00<?, ?B/s]"
      ]
     },
     "metadata": {},
     "output_type": "display_data"
    },
    {
     "name": "stdout",
     "output_type": "stream",
     "text": [
      "/Users/markhneedham/.cache/huggingface/hub/models--cardiffnlp--twitter-roberta-base-sentiment/snapshots/daefdd1f6ae931839bce4d0f3db0a1a4265cd50f/pytorch_model.bin\n",
      "/Users/markhneedham/.cache/huggingface/hub/models--cardiffnlp--twitter-roberta-base-sentiment/snapshots/daefdd1f6ae931839bce4d0f3db0a1a4265cd50f/config.json\n"
     ]
    },
    {
     "data": {
      "application/vnd.jupyter.widget-view+json": {
       "model_id": "55246a186f4f4276bdb6f910194cec92",
       "version_major": 2,
       "version_minor": 0
      },
      "text/plain": [
       "Downloading (…)olve/main/merges.txt:   0%|          | 0.00/456k [00:00<?, ?B/s]"
      ]
     },
     "metadata": {},
     "output_type": "display_data"
    },
    {
     "name": "stdout",
     "output_type": "stream",
     "text": [
      "/Users/markhneedham/.cache/huggingface/hub/models--cardiffnlp--twitter-roberta-base-sentiment/snapshots/daefdd1f6ae931839bce4d0f3db0a1a4265cd50f/merges.txt\n"
     ]
    },
    {
     "data": {
      "application/vnd.jupyter.widget-view+json": {
       "model_id": "2cfeddd83a354460a531a41b958bf59a",
       "version_major": 2,
       "version_minor": 0
      },
      "text/plain": [
       "Downloading (…)cial_tokens_map.json:   0%|          | 0.00/150 [00:00<?, ?B/s]"
      ]
     },
     "metadata": {},
     "output_type": "display_data"
    },
    {
     "name": "stdout",
     "output_type": "stream",
     "text": [
      "/Users/markhneedham/.cache/huggingface/hub/models--cardiffnlp--twitter-roberta-base-sentiment/snapshots/daefdd1f6ae931839bce4d0f3db0a1a4265cd50f/special_tokens_map.json\n"
     ]
    },
    {
     "data": {
      "application/vnd.jupyter.widget-view+json": {
       "model_id": "9d28682ed6ea49d791237f62d8846479",
       "version_major": 2,
       "version_minor": 0
      },
      "text/plain": [
       "Downloading (…)olve/main/vocab.json:   0%|          | 0.00/899k [00:00<?, ?B/s]"
      ]
     },
     "metadata": {},
     "output_type": "display_data"
    },
    {
     "name": "stdout",
     "output_type": "stream",
     "text": [
      "/Users/markhneedham/.cache/huggingface/hub/models--cardiffnlp--twitter-roberta-base-sentiment/snapshots/daefdd1f6ae931839bce4d0f3db0a1a4265cd50f/vocab.json\n"
     ]
    },
    {
     "data": {
      "application/vnd.jupyter.widget-view+json": {
       "model_id": "a86b9d369c0740afa3ac79ae9bcd727c",
       "version_major": 2,
       "version_minor": 0
      },
      "text/plain": [
       "Downloading tf_model.h5:   0%|          | 0.00/501M [00:00<?, ?B/s]"
      ]
     },
     "metadata": {},
     "output_type": "display_data"
    },
    {
     "name": "stdout",
     "output_type": "stream",
     "text": [
      "/Users/markhneedham/.cache/huggingface/hub/models--cardiffnlp--twitter-roberta-base-sentiment/snapshots/daefdd1f6ae931839bce4d0f3db0a1a4265cd50f/tf_model.h5\n"
     ]
    },
    {
     "data": {
      "application/vnd.jupyter.widget-view+json": {
       "model_id": "e32bfede591243eca0e27aa10390363d",
       "version_major": 2,
       "version_minor": 0
      },
      "text/plain": [
       "Downloading flax_model.msgpack:   0%|          | 0.00/499M [00:00<?, ?B/s]"
      ]
     },
     "metadata": {},
     "output_type": "display_data"
    },
    {
     "name": "stdout",
     "output_type": "stream",
     "text": [
      "/Users/markhneedham/.cache/huggingface/hub/models--cardiffnlp--twitter-roberta-base-sentiment/snapshots/daefdd1f6ae931839bce4d0f3db0a1a4265cd50f/flax_model.msgpack\n"
     ]
    }
   ],
   "source": [
    "for filename in filenames:\n",
    "        downloaded_model_path = hf_hub_download(\n",
    "                    repo_id=model_id,\n",
    "                    filename=filename,\n",
    "                    token=HUGGING_FACE_API_KEY\n",
    "        )\n",
    "        print(downloaded_model_path)"
   ]
  },
  {
   "cell_type": "markdown",
   "id": "d5b4ad22-2e7d-40d9-978b-b730bd06b141",
   "metadata": {},
   "source": [
    "## Run the LLM\n",
    "Now let's try running the model. But before we do that, let's disable the Wi-Fi."
   ]
  },
  {
   "cell_type": "code",
   "execution_count": 16,
   "id": "142066bb-f15e-4a13-9801-dd7c4c74ff2b",
   "metadata": {
    "execution": {
     "iopub.execute_input": "2023-08-01T09:08:11.238207Z",
     "iopub.status.busy": "2023-08-01T09:08:11.236814Z",
     "iopub.status.idle": "2023-08-01T09:08:11.396467Z",
     "shell.execute_reply": "2023-08-01T09:08:11.394759Z",
     "shell.execute_reply.started": "2023-08-01T09:08:11.238164Z"
    }
   },
   "outputs": [
    {
     "data": {
      "text/plain": [
       "{'LABEL_0': 'negative', 'LABEL_1': 'neutral', 'LABEL_2': 'positive'}"
      ]
     },
     "execution_count": 16,
     "metadata": {},
     "output_type": "execute_result"
    }
   ],
   "source": [
    "import urllib, csv\n",
    "labels=[]\n",
    "mapping_link = f\"https://raw.githubusercontent.com/cardiffnlp/tweeteval/main/datasets/sentiment/mapping.txt\"\n",
    "with urllib.request.urlopen(mapping_link) as f:\n",
    "    html = f.read().decode('utf-8').split(\"\\n\")\n",
    "    csvreader = csv.reader(html, delimiter='\\t')\n",
    "labels = {f\"LABEL_{index}\" : row[1] for index, row in enumerate(csvreader) if len(row) > 1}\n",
    "labels"
   ]
  },
  {
   "cell_type": "code",
   "execution_count": 23,
   "id": "43a2d115-13ba-49f5-adab-6f5cd3a9e69a",
   "metadata": {
    "execution": {
     "iopub.execute_input": "2023-08-01T09:13:22.051610Z",
     "iopub.status.busy": "2023-08-01T09:13:22.051097Z",
     "iopub.status.idle": "2023-08-01T09:13:23.203709Z",
     "shell.execute_reply": "2023-08-01T09:13:23.203403Z",
     "shell.execute_reply.started": "2023-08-01T09:13:22.051587Z"
    }
   },
   "outputs": [],
   "source": [
    "from transformers import pipeline\n",
    "sentiment_pipeline = pipeline(\"sentiment-analysis\", model=model_id)"
   ]
  },
  {
   "cell_type": "code",
   "execution_count": 41,
   "id": "e63b8f3f-aace-4a0e-86ed-ce15ca771d02",
   "metadata": {
    "execution": {
     "iopub.execute_input": "2023-08-01T10:14:40.769584Z",
     "iopub.status.busy": "2023-08-01T10:14:40.769499Z",
     "iopub.status.idle": "2023-08-01T10:14:41.170842Z",
     "shell.execute_reply": "2023-08-01T10:14:41.170535Z",
     "shell.execute_reply.started": "2023-08-01T10:14:40.769577Z"
    }
   },
   "outputs": [],
   "source": [
    "data = [\"Possibly the worst book I've ever read.It's a huge collection of biases for all the possible countries and cultures. The whole book is structured with examples like: if you are working with Chinese people, you should take this approach, instead if your team is composed by German people you should do this etc....\",\n",
    " 'A book full of oversimplifications, generalisations and self-contradiction. Plus many of the examples felt simply made up. Although it had one or two good ideas thrown in there, I am honestly not sure if this book can hardly help anyone.',\n",
    " 'I had it on my recommendations list for a long time, but my impression was always like: \"damn, I don\\'t need a book on cultural differences; I\\'ve worked in many international enterprises, I have been trained, I have practical experience - it would be just a waste of time\". In the end, it wasn\\'t (a waste of time).',\n",
    " 'Candidate for the best book I have read in 2016 unless another one can beat it. The author made is fun to read with great examples that I could easily relate to.',\n",
    " 'A practical and comprehensive guide to how different cultures should be approached regarding business relations, but it can also be used outside of that.',\n",
    " 'The book was OK. It offers a good overview of differences between cultures. Sometimes we may assume that 2 cultures are similar, but in the end there is a possibility of conflict, because they have different \"mentality\" on a certain point (trust or time perception, for instance). But Erin often limits herself to personal stories and doesn\\'t cite almost any researcher or study.']\n",
    "results = sentiment_pipeline(data)"
   ]
  },
  {
   "cell_type": "code",
   "execution_count": 40,
   "id": "b3807a64-15c5-469e-951d-c016bc89388a",
   "metadata": {
    "execution": {
     "iopub.execute_input": "2023-08-01T10:14:40.767080Z",
     "iopub.status.busy": "2023-08-01T10:14:40.767004Z",
     "iopub.status.idle": "2023-08-01T10:14:40.769203Z",
     "shell.execute_reply": "2023-08-01T10:14:40.768918Z",
     "shell.execute_reply.started": "2023-08-01T10:14:40.767074Z"
    }
   },
   "outputs": [
    {
     "name": "stdout",
     "output_type": "stream",
     "text": [
      "Possibly the worst book I've ever read.It's a huge collection of biases for all the possible countries and cultures. The whole book is structured with examples like: if you are working with Chinese people, you should take this approach, instead if your team is composed by German people you should do this etc....\n",
      "negative 0.9155668020248413\n",
      "\n",
      "A book full of oversimplifications, generalisations and self-contradiction. Plus many of the examples felt simply made up. Although it had one or two good ideas thrown in there, I am honestly not sure if this book can hardly help anyone.\n",
      "negative 0.7787094116210938\n",
      "\n",
      "I had it on my recommendations list for a long time, but my impression was always like: \"damn, I don't need a book on cultural differences; I've worked in many international enterprises, I have been trained, I have practical experience - it would be just a waste of time\". In the end, it wasn't (a waste of time).\n",
      "neutral 0.4299629330635071\n",
      "\n",
      "Candidate for the best book I have read in 2016 unless another one can beat it. The author made is fun to read with great examples that I could easily relate to.\n",
      "positive 0.9782860279083252\n",
      "\n",
      "A practical and comprehensive guide to how different cultures should be approached regarding business relations, but it can also be used outside of that.\n",
      "neutral 0.6963483095169067\n",
      "\n",
      "The book was OK. It offers a good overview of differences between cultures. Sometimes we may assume that 2 cultures are similar, but in the end there is a possibility of conflict, because they have different \"mentality\" on a certain point (trust or time perception, for instance). But Erin often limits herself to personal stories and doesn't cite almost any researcher or study.\n",
      "neutral 0.4727337956428528\n",
      "\n"
     ]
    }
   ],
   "source": [
    "for value, sentiment in zip(data, results):\n",
    "    print(value)\n",
    "    print(labels[sentiment['label']], sentiment['score'])\n",
    "    print(\"\")"
   ]
  },
  {
   "cell_type": "code",
   "execution_count": 33,
   "id": "c9ee771e-cfe9-42e9-8851-03e2125525b9",
   "metadata": {
    "execution": {
     "iopub.execute_input": "2023-08-01T09:33:58.072848Z",
     "iopub.status.busy": "2023-08-01T09:33:58.067932Z",
     "iopub.status.idle": "2023-08-01T09:33:58.155452Z",
     "shell.execute_reply": "2023-08-01T09:33:58.155183Z",
     "shell.execute_reply.started": "2023-08-01T09:33:58.072786Z"
    }
   },
   "outputs": [
    {
     "data": {
      "text/plain": [
       "{'label': 'positive', 'score': 0.8966352343559265}"
      ]
     },
     "execution_count": 33,
     "metadata": {},
     "output_type": "execute_result"
    }
   ],
   "source": [
    "sentiment = sentiment_pipeline(\"It was epic\")[0]\n",
    "sentiment[\"label\"] = labels[sentiment['label']]\n",
    "sentiment"
   ]
  },
  {
   "cell_type": "code",
   "execution_count": 39,
   "id": "764f14f2-004b-463a-9d40-9b4e8fd7a5e6",
   "metadata": {
    "execution": {
     "iopub.execute_input": "2023-08-01T10:05:49.231245Z",
     "iopub.status.busy": "2023-08-01T10:05:49.230558Z",
     "iopub.status.idle": "2023-08-01T10:14:40.766321Z",
     "shell.execute_reply": "2023-08-01T10:14:40.766003Z",
     "shell.execute_reply.started": "2023-08-01T10:05:49.231216Z"
    }
   },
   "outputs": [
    {
     "data": {
      "application/vnd.jupyter.widget-view+json": {
       "model_id": "c72b23c9b09e47279a9282351e5c1909",
       "version_major": 2,
       "version_minor": 0
      },
      "text/plain": [
       "Downloading (…)lve/main/config.json:   0%|          | 0.00/953 [00:00<?, ?B/s]"
      ]
     },
     "metadata": {},
     "output_type": "display_data"
    },
    {
     "data": {
      "application/vnd.jupyter.widget-view+json": {
       "model_id": "d81bbfa0b8aa4fda809331a3fe11ef18",
       "version_major": 2,
       "version_minor": 0
      },
      "text/plain": [
       "Downloading pytorch_model.bin:   0%|          | 0.00/669M [00:00<?, ?B/s]"
      ]
     },
     "metadata": {},
     "output_type": "display_data"
    },
    {
     "data": {
      "application/vnd.jupyter.widget-view+json": {
       "model_id": "57e1516677ed4b7899974bd368ebf6b8",
       "version_major": 2,
       "version_minor": 0
      },
      "text/plain": [
       "Downloading (…)okenizer_config.json:   0%|          | 0.00/39.0 [00:00<?, ?B/s]"
      ]
     },
     "metadata": {},
     "output_type": "display_data"
    },
    {
     "data": {
      "application/vnd.jupyter.widget-view+json": {
       "model_id": "aaf4cdcf1a3646519b8d6bcb2ff053ac",
       "version_major": 2,
       "version_minor": 0
      },
      "text/plain": [
       "Downloading (…)solve/main/vocab.txt:   0%|          | 0.00/872k [00:00<?, ?B/s]"
      ]
     },
     "metadata": {},
     "output_type": "display_data"
    },
    {
     "data": {
      "application/vnd.jupyter.widget-view+json": {
       "model_id": "1b21724932d7465fb46d5cfa6cf2f909",
       "version_major": 2,
       "version_minor": 0
      },
      "text/plain": [
       "Downloading (…)cial_tokens_map.json:   0%|          | 0.00/112 [00:00<?, ?B/s]"
      ]
     },
     "metadata": {},
     "output_type": "display_data"
    }
   ],
   "source": [
    "sentiment_pipeline = pipeline(\"sentiment-analysis\", model=\"nlptown/bert-base-multilingual-uncased-sentiment\")"
   ]
  },
  {
   "cell_type": "code",
   "execution_count": 38,
   "id": "fcfad874-6ff4-4f8b-8f8c-bff54dc93227",
   "metadata": {
    "execution": {
     "iopub.execute_input": "2023-08-01T10:05:28.197227Z",
     "iopub.status.busy": "2023-08-01T10:05:28.196952Z",
     "iopub.status.idle": "2023-08-01T10:05:28.267079Z",
     "shell.execute_reply": "2023-08-01T10:05:28.266662Z",
     "shell.execute_reply.started": "2023-08-01T10:05:28.197211Z"
    }
   },
   "outputs": [
    {
     "data": {
      "text/plain": [
       "{'label': 'POS', 'score': 0.9846311211585999}"
      ]
     },
     "execution_count": 38,
     "metadata": {},
     "output_type": "execute_result"
    }
   ],
   "source": [
    "sentiment = sentiment_pipeline(\"It was epic\")[0]\n",
    "sentiment"
   ]
  }
 ],
 "metadata": {
  "kernelspec": {
   "display_name": "Python 3 (ipykernel)",
   "language": "python",
   "name": "python3"
  },
  "language_info": {
   "codemirror_mode": {
    "name": "ipython",
    "version": 3
   },
   "file_extension": ".py",
   "mimetype": "text/x-python",
   "name": "python",
   "nbconvert_exporter": "python",
   "pygments_lexer": "ipython3",
   "version": "3.11.4"
  }
 },
 "nbformat": 4,
 "nbformat_minor": 5
}
