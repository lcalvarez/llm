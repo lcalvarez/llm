{
 "cells": [
  {
   "cell_type": "markdown",
   "id": "c91e5a38-8d7c-4f9e-9de0-7cfa9f6b5c95",
   "metadata": {},
   "source": [
    "# Running an LLM on your own laptop\n",
    "In this notebook, we'll learn how to run an LLM on our own laptop using Hugging Face."
   ]
  },
  {
   "cell_type": "code",
   "execution_count": 3,
   "id": "bcd231ba-5921-47d0-8e5f-df6452a5d5f4",
   "metadata": {},
   "outputs": [
    {
     "ename": "ModuleNotFoundError",
     "evalue": "No module named 'huggingface_hub'",
     "output_type": "error",
     "traceback": [
      "\u001b[0;31m---------------------------------------------------------------------------\u001b[0m",
      "\u001b[0;31mModuleNotFoundError\u001b[0m                       Traceback (most recent call last)",
      "Cell \u001b[0;32mIn[3], line 2\u001b[0m\n\u001b[1;32m      1\u001b[0m \u001b[38;5;28;01mimport\u001b[39;00m \u001b[38;5;21;01mos\u001b[39;00m\n\u001b[0;32m----> 2\u001b[0m \u001b[38;5;28;01mfrom\u001b[39;00m \u001b[38;5;21;01mhuggingface_hub\u001b[39;00m \u001b[38;5;28;01mimport\u001b[39;00m hf_hub_b_download\n",
      "\u001b[0;31mModuleNotFoundError\u001b[0m: No module named 'huggingface_hub'"
     ]
    }
   ],
   "source": [
    "import os\n",
    "from huggingface_hub import hf_hub_b_download"
   ]
  },
  {
   "cell_type": "code",
   "execution_count": 2,
   "id": "e3f9c81f-b382-4257-903e-824738bde19f",
   "metadata": {},
   "outputs": [],
   "source": [
    "HUGGING_FACE_API_KEY = os.environ.get(\"HUGGING_FACE_API_KEY\")"
   ]
  },
  {
   "cell_type": "code",
   "execution_count": 72,
   "id": "8a7684f1-4466-424e-a2ab-c71a41e93a9b",
   "metadata": {
    "execution": {
     "iopub.execute_input": "2023-07-28T13:23:07.750574Z",
     "iopub.status.busy": "2023-07-28T13:23:07.749817Z",
     "iopub.status.idle": "2023-07-28T13:23:09.165003Z",
     "shell.execute_reply": "2023-07-28T13:23:09.164101Z",
     "shell.execute_reply.started": "2023-07-28T13:23:07.750547Z"
    }
   },
   "outputs": [
    {
     "name": "stdout",
     "output_type": "stream",
     "text": [
      "/Users/markhneedham/.cache/huggingface/hub/models--lmsys--fastchat-t5-3b-v1.0/snapshots/0b1da230a891854102d749b93f7ddf1f18a81024/pytorch_model.bin\n",
      "/Users/markhneedham/.cache/huggingface/hub/models--lmsys--fastchat-t5-3b-v1.0/snapshots/0b1da230a891854102d749b93f7ddf1f18a81024/added_tokens.json\n",
      "/Users/markhneedham/.cache/huggingface/hub/models--lmsys--fastchat-t5-3b-v1.0/snapshots/0b1da230a891854102d749b93f7ddf1f18a81024/config.json\n",
      "/Users/markhneedham/.cache/huggingface/hub/models--lmsys--fastchat-t5-3b-v1.0/snapshots/0b1da230a891854102d749b93f7ddf1f18a81024/generation_config.json\n",
      "/Users/markhneedham/.cache/huggingface/hub/models--lmsys--fastchat-t5-3b-v1.0/snapshots/0b1da230a891854102d749b93f7ddf1f18a81024/special_tokens_map.json\n",
      "/Users/markhneedham/.cache/huggingface/hub/models--lmsys--fastchat-t5-3b-v1.0/snapshots/0b1da230a891854102d749b93f7ddf1f18a81024/spiece.model\n",
      "/Users/markhneedham/.cache/huggingface/hub/models--lmsys--fastchat-t5-3b-v1.0/snapshots/0b1da230a891854102d749b93f7ddf1f18a81024/tokenizer_config.json\n"
     ]
    }
   ],
   "source": [
    "# Replace this if you want to use a different model\n",
    "model_id = \"lmsys/fastchat-t5-3b-v1.0\"\n",
    "filenames = [\n",
    "    \"pytorch_model.bin\", \"added_tokens.json\", \"config.json\", \"generation_config.json\", \n",
    "    \"special_tokens_map.json\", \"spiece.model\", \"tokenizer_config.json\"\n",
    "]\n",
    "\n",
    "for filename in filenames:\n",
    "    downloaded_model_path = hf_hub_download(\n",
    "        repo_id=model_id,\n",
    "        filename=filename,\n",
    "        token=HUGGING_FACE_API_KEY\n",
    "    )\n",
    "\n",
    "    print(downloaded_model_path)"
   ]
  },
  {
   "cell_type": "code",
   "execution_count": 4,
   "id": "e7320b51-3ed6-42e6-8ade-c974c673ecc0",
   "metadata": {
    "execution": {
     "iopub.execute_input": "2023-07-28T11:10:25.122929Z",
     "iopub.status.busy": "2023-07-28T11:10:25.122279Z",
     "iopub.status.idle": "2023-07-28T11:10:25.993017Z",
     "shell.execute_reply": "2023-07-28T11:10:25.992732Z",
     "shell.execute_reply.started": "2023-07-28T11:10:25.122904Z"
    },
    "scrolled": true
   },
   "outputs": [],
   "source": [
    "from langchain.llms import HuggingFacePipeline\n",
    "from langchain import PromptTemplate, LLMChain"
   ]
  },
  {
   "cell_type": "code",
   "execution_count": 6,
   "id": "b9e2e16a-f84d-4d39-a484-c7415cab09a2",
   "metadata": {
    "execution": {
     "iopub.execute_input": "2023-07-28T11:00:25.850696Z",
     "iopub.status.busy": "2023-07-28T11:00:25.850481Z",
     "iopub.status.idle": "2023-07-28T11:00:25.852752Z",
     "shell.execute_reply": "2023-07-28T11:00:25.852310Z",
     "shell.execute_reply.started": "2023-07-28T11:00:25.850687Z"
    }
   },
   "outputs": [],
   "source": [
    "import warnings\n",
    "warnings.filterwarnings('always')"
   ]
  },
  {
   "cell_type": "code",
   "execution_count": 17,
   "id": "eb12b8bb-c03d-461e-b804-605a43ea1a51",
   "metadata": {
    "execution": {
     "iopub.execute_input": "2023-07-28T11:23:07.203604Z",
     "iopub.status.busy": "2023-07-28T11:23:07.203413Z",
     "iopub.status.idle": "2023-07-28T11:23:29.172906Z",
     "shell.execute_reply": "2023-07-28T11:23:29.172266Z",
     "shell.execute_reply.started": "2023-07-28T11:23:07.203592Z"
    }
   },
   "outputs": [],
   "source": [
    "model_id = \"lmsys/fastchat-t5-3b-v1.0\"\n",
    "llm = HuggingFacePipeline.from_model_id(\n",
    "    model_id=model_id,\n",
    "    task=\"text2text-generation\",\n",
    "    model_kwargs={\"temperature\": 0, \"max_length\": 1000},\n",
    ")"
   ]
  },
  {
   "cell_type": "code",
   "execution_count": 6,
   "id": "bb51f19b-7fbe-47eb-ac5d-b9465a54ff4b",
   "metadata": {
    "execution": {
     "iopub.execute_input": "2023-07-28T11:10:48.853427Z",
     "iopub.status.busy": "2023-07-28T11:10:48.852760Z",
     "iopub.status.idle": "2023-07-28T11:11:01.355912Z",
     "shell.execute_reply": "2023-07-28T11:11:01.355591Z",
     "shell.execute_reply.started": "2023-07-28T11:10:48.853402Z"
    }
   },
   "outputs": [],
   "source": [
    "model_id = \"lmsys/fastchat-t5-3b-v1.0\"\n",
    "llm = HuggingFacePipeline.from_model_id(\n",
    "    model_id=model_id,\n",
    "    task=\"text2text-generation\",\n",
    "    pipeline_kwargs={\"temperature\": 0, \"max_length\": 1000},\n",
    ")"
   ]
  },
  {
   "cell_type": "code",
   "execution_count": 7,
   "id": "88f645df-dbcb-4583-9287-33667349ec51",
   "metadata": {
    "execution": {
     "iopub.execute_input": "2023-07-28T11:11:04.484668Z",
     "iopub.status.busy": "2023-07-28T11:11:04.484306Z",
     "iopub.status.idle": "2023-07-28T11:11:06.083103Z",
     "shell.execute_reply": "2023-07-28T11:11:06.082839Z",
     "shell.execute_reply.started": "2023-07-28T11:11:04.484647Z"
    }
   },
   "outputs": [
    {
     "data": {
      "text/plain": [
       "'<pad> glasgow'"
      ]
     },
     "execution_count": 7,
     "metadata": {},
     "output_type": "execute_result"
    }
   ],
   "source": [
    "llm(\"What is the capital of Scotland?\")"
   ]
  },
  {
   "cell_type": "code",
   "execution_count": 8,
   "id": "6208858f-0fe5-4a86-986e-0916ba0edd2c",
   "metadata": {
    "execution": {
     "iopub.execute_input": "2023-07-28T11:11:22.934791Z",
     "iopub.status.busy": "2023-07-28T11:11:22.934423Z",
     "iopub.status.idle": "2023-07-28T11:11:29.684451Z",
     "shell.execute_reply": "2023-07-28T11:11:29.684168Z",
     "shell.execute_reply.started": "2023-07-28T11:11:22.934770Z"
    }
   },
   "outputs": [
    {
     "data": {
      "text/plain": [
       "'<pad> Cristiano  Ronaldo is  a  Portuguese footballer who  plays  as  a striker for  Real  Madrid.'"
      ]
     },
     "execution_count": 8,
     "metadata": {},
     "output_type": "execute_result"
    }
   ],
   "source": [
    "llm(\"Whos is Cristiano Ronaldo? Tell me about him.\")"
   ]
  },
  {
   "cell_type": "code",
   "execution_count": 13,
   "id": "5f25b743-2006-4f14-816f-37ff04f4465c",
   "metadata": {
    "execution": {
     "iopub.execute_input": "2023-07-28T11:02:46.509380Z",
     "iopub.status.busy": "2023-07-28T11:02:46.508841Z",
     "iopub.status.idle": "2023-07-28T11:02:46.523096Z",
     "shell.execute_reply": "2023-07-28T11:02:46.519363Z",
     "shell.execute_reply.started": "2023-07-28T11:02:46.509356Z"
    }
   },
   "outputs": [],
   "source": [
    "template = \"\"\"\n",
    "You are a friendly chatbot assistant that responds conversationally to users' questions.\n",
    "Keep the answers short, unless specifically asked by the user to elaborate on something.\n",
    "\n",
    "Question: {question}\n",
    "\n",
    "Answer:\"\"\"\n",
    "\n",
    "prompt = PromptTemplate(template=template, input_variables=[\"question\"])\n",
    "\n",
    "llm_chain = LLMChain(prompt=prompt, llm=llm)"
   ]
  },
  {
   "cell_type": "code",
   "execution_count": 15,
   "id": "2308f4c7-4903-4dcb-ab33-80e2ee9bf757",
   "metadata": {
    "execution": {
     "iopub.execute_input": "2023-07-28T11:03:23.452811Z",
     "iopub.status.busy": "2023-07-28T11:03:23.452659Z",
     "iopub.status.idle": "2023-07-28T11:03:24.879284Z",
     "shell.execute_reply": "2023-07-28T11:03:24.878975Z",
     "shell.execute_reply.started": "2023-07-28T11:03:23.452801Z"
    }
   },
   "outputs": [
    {
     "name": "stdout",
     "output_type": "stream",
     "text": [
      "{'question': 'What is the capital of England?', 'text': '<pad> London.\\n'}\n"
     ]
    }
   ],
   "source": [
    "import pprint\n",
    "pprint.pprint(llm_chain(\"What is the capital of England?\"))"
   ]
  },
  {
   "cell_type": "code",
   "execution_count": 16,
   "id": "dd566685-014b-41a8-aadd-ac4367249bf4",
   "metadata": {
    "execution": {
     "iopub.execute_input": "2023-07-28T11:03:41.207141Z",
     "iopub.status.busy": "2023-07-28T11:03:41.206755Z",
     "iopub.status.idle": "2023-07-28T11:04:10.838300Z",
     "shell.execute_reply": "2023-07-28T11:04:10.838031Z",
     "shell.execute_reply.started": "2023-07-28T11:03:41.207121Z"
    }
   },
   "outputs": [
    {
     "name": "stdout",
     "output_type": "stream",
     "text": [
      "{'question': 'Who is Lionel Messi? Is he better than Cristiano Ronaldo?',\n",
      " 'text': '<pad> Lionel  Messi  is  a  Spanish  professional  footballer  who  '\n",
      "         'plays  for  Barcelona  and  is  considered  one  of  the  best  '\n",
      "         'players  in  the  world.  Cristiano  Ronaldo  is  a  Portuguese  '\n",
      "         'professional  footballer  who  plays  for  Real  Madrid  and  is  '\n",
      "         'considered  one  of  the  best  players  in  the  world.  Both  '\n",
      "         'players  have  won  numerous  awards  and  accolades  for  their  '\n",
      "         'performances  on  the  field.\\n'}\n"
     ]
    }
   ],
   "source": [
    "pprint.pprint(llm_chain(\"Who is Lionel Messi? Is he better than Cristiano Ronaldo?\"))"
   ]
  },
  {
   "cell_type": "code",
   "execution_count": 74,
   "id": "6cd14fa3-d4a8-4d86-9512-8184e1b923b5",
   "metadata": {
    "execution": {
     "iopub.execute_input": "2023-07-29T06:43:21.715372Z",
     "iopub.status.busy": "2023-07-29T06:43:21.714831Z",
     "iopub.status.idle": "2023-07-29T06:43:40.458774Z",
     "shell.execute_reply": "2023-07-29T06:43:40.458408Z",
     "shell.execute_reply.started": "2023-07-29T06:43:21.715330Z"
    }
   },
   "outputs": [],
   "source": [
    "from transformers import AutoTokenizer, AutoModelForCausalLM, pipeline, AutoModelForSeq2SeqLM\n",
    "\n",
    "tokenizer = AutoTokenizer.from_pretrained(model_id)\n",
    "model = AutoModelForSeq2SeqLM.from_pretrained(model_id)\n",
    "\n",
    "pipeline = pipeline(\n",
    "    \"text2text-generation\",\n",
    "    model=model, \n",
    "    device=-1,\n",
    "    tokenizer=tokenizer, \n",
    "    max_length=1000\n",
    ")\n",
    "\n",
    "local_llm = HuggingFacePipeline(pipeline=pipeline)"
   ]
  },
  {
   "cell_type": "code",
   "execution_count": 75,
   "id": "d4da2f9e-5bd0-4e77-b7bf-ee0239134b7c",
   "metadata": {
    "execution": {
     "iopub.execute_input": "2023-07-29T06:43:43.567955Z",
     "iopub.status.busy": "2023-07-29T06:43:43.567543Z",
     "iopub.status.idle": "2023-07-29T06:44:06.148206Z",
     "shell.execute_reply": "2023-07-29T06:44:06.147934Z",
     "shell.execute_reply.started": "2023-07-29T06:43:43.567934Z"
    }
   },
   "outputs": [
    {
     "data": {
      "text/plain": [
       "'<pad> Cristiano  Ronaldo  is  a  Portuguese  professional  footballer  who  plays  as  a  forward  for  Real  Madrid  in  the  Spanish  Primera  Liga.  He  is  the  current  record  holder  for  most  goals  scored  in  a  single  season  in  the  Premier  League,  with  a  total  of  81.\\n'"
      ]
     },
     "execution_count": 75,
     "metadata": {},
     "output_type": "execute_result"
    }
   ],
   "source": [
    "local_llm(\"Who is Cristiano Ronaldo? Tell me a few paragraphs about him\")"
   ]
  },
  {
   "cell_type": "code",
   "execution_count": 34,
   "id": "569113fe-c43d-47a4-be42-307608824a7a",
   "metadata": {
    "execution": {
     "iopub.execute_input": "2023-07-28T11:29:33.383078Z",
     "iopub.status.busy": "2023-07-28T11:29:33.382622Z",
     "iopub.status.idle": "2023-07-28T11:29:45.973979Z",
     "shell.execute_reply": "2023-07-28T11:29:45.973719Z",
     "shell.execute_reply.started": "2023-07-28T11:29:33.383045Z"
    }
   },
   "outputs": [
    {
     "data": {
      "text/plain": [
       "'<pad> Apache Kafka is a popular open source message broker that is used for streaming and aggregating data from multiple sources. Some of its competitors include Apache Spark, Apache Storm, Apache Flume, and Apache Flink.'"
      ]
     },
     "execution_count": 34,
     "metadata": {},
     "output_type": "execute_result"
    }
   ],
   "source": [
    "local_llm(\"What are competitors to Apache Kafka?\")"
   ]
  },
  {
   "cell_type": "code",
   "execution_count": 49,
   "id": "9c991cd9-a633-4dd7-ab86-668d6c38afe1",
   "metadata": {
    "execution": {
     "iopub.execute_input": "2023-07-28T11:32:57.852161Z",
     "iopub.status.busy": "2023-07-28T11:32:57.851769Z",
     "iopub.status.idle": "2023-07-28T11:32:57.879221Z",
     "shell.execute_reply": "2023-07-28T11:32:57.878470Z",
     "shell.execute_reply.started": "2023-07-28T11:32:57.852141Z"
    }
   },
   "outputs": [
    {
     "name": "stdout",
     "output_type": "stream",
     "text": [
      "You have Network Connectivity (IP Address: 192.168.86.249)\n"
     ]
    }
   ],
   "source": [
    "import utils, importlib\n",
    "importlib.reload(utils)\n",
    "from utils import check_connectivity, toggle_wifi\n",
    "print(check_connectivity())\n"
   ]
  },
  {
   "cell_type": "code",
   "execution_count": 55,
   "id": "3ab7b044-6d42-49a4-8d19-0cb45fdac1fa",
   "metadata": {
    "execution": {
     "iopub.execute_input": "2023-07-28T11:33:26.172535Z",
     "iopub.status.busy": "2023-07-28T11:33:26.172180Z",
     "iopub.status.idle": "2023-07-28T11:33:26.314102Z",
     "shell.execute_reply": "2023-07-28T11:33:26.313536Z",
     "shell.execute_reply.started": "2023-07-28T11:33:26.172513Z"
    }
   },
   "outputs": [
    {
     "name": "stdout",
     "output_type": "stream",
     "text": [
      "WiFi disabled.\n"
     ]
    }
   ],
   "source": [
    "toggle_wifi(\"on\")"
   ]
  },
  {
   "cell_type": "code",
   "execution_count": 63,
   "id": "429861e9-39f9-4239-9d0b-03a4d09e125a",
   "metadata": {
    "execution": {
     "iopub.execute_input": "2023-07-28T11:52:13.686661Z",
     "iopub.status.busy": "2023-07-28T11:52:13.686303Z",
     "iopub.status.idle": "2023-07-28T11:52:13.711797Z",
     "shell.execute_reply": "2023-07-28T11:52:13.709987Z",
     "shell.execute_reply.started": "2023-07-28T11:52:13.686641Z"
    }
   },
   "outputs": [
    {
     "data": {
      "text/plain": [
       "'You have Network Connectivity (IP Address: 192.168.86.249)'"
      ]
     },
     "execution_count": 63,
     "metadata": {},
     "output_type": "execute_result"
    }
   ],
   "source": [
    "check_connectivity()"
   ]
  },
  {
   "cell_type": "code",
   "execution_count": 79,
   "id": "c2da5965-fede-4d9d-8a35-0872ae8aba67",
   "metadata": {
    "execution": {
     "iopub.execute_input": "2023-07-29T07:14:49.144980Z",
     "iopub.status.busy": "2023-07-29T07:14:49.144377Z",
     "iopub.status.idle": "2023-07-29T07:14:52.652064Z",
     "shell.execute_reply": "2023-07-29T07:14:52.651809Z",
     "shell.execute_reply.started": "2023-07-29T07:14:49.144957Z"
    }
   },
   "outputs": [
    {
     "data": {
      "text/plain": [
       "'<pad> Will  and  Paul  are  my  brothers.\\n'"
      ]
     },
     "execution_count": 79,
     "metadata": {},
     "output_type": "execute_result"
    }
   ],
   "source": [
    "local_llm(\"\"\"\n",
    "My name is Mark\n",
    "My brothers are Will and Paul.\n",
    "My cousins are David and James.\n",
    "\n",
    "Using only the context above. Who are my brothers? \n",
    "\n",
    "\"\"\")"
   ]
  },
  {
   "cell_type": "code",
   "execution_count": 81,
   "id": "93fdb518-f7e9-497f-b8ed-1d86c748ea20",
   "metadata": {
    "execution": {
     "iopub.execute_input": "2023-07-29T07:15:34.960723Z",
     "iopub.status.busy": "2023-07-29T07:15:34.960148Z",
     "iopub.status.idle": "2023-07-29T07:15:39.208037Z",
     "shell.execute_reply": "2023-07-29T07:15:39.207791Z",
     "shell.execute_reply.started": "2023-07-29T07:15:34.960520Z"
    }
   },
   "outputs": [
    {
     "data": {
      "text/plain": [
       "'<pad> No,  I  do  not  have  a  sister.\\n'"
      ]
     },
     "execution_count": 81,
     "metadata": {},
     "output_type": "execute_result"
    }
   ],
   "source": [
    "local_llm(\"\"\"\n",
    "My name is Mark\n",
    "My brothers are Will and Paul.\n",
    "\n",
    "Using only the context above. Do you know if I have a sister?\n",
    "\"\"\")"
   ]
  },
  {
   "cell_type": "code",
   "execution_count": 80,
   "id": "abd48437-9225-4310-9e5a-fc34afd8acf9",
   "metadata": {
    "execution": {
     "iopub.execute_input": "2023-07-29T07:15:19.885176Z",
     "iopub.status.busy": "2023-07-29T07:15:19.884585Z",
     "iopub.status.idle": "2023-07-29T07:15:25.769146Z",
     "shell.execute_reply": "2023-07-29T07:15:25.768881Z",
     "shell.execute_reply.started": "2023-07-29T07:15:19.885155Z"
    }
   },
   "outputs": [
    {
     "data": {
      "text/plain": [
       "'<pad> No,  you  cannot  name  my  father  based  on  the  information  given.\\n'"
      ]
     },
     "execution_count": 80,
     "metadata": {},
     "output_type": "execute_result"
    }
   ],
   "source": [
    "local_llm(\"\"\"\n",
    "My name is Mark\n",
    "My brothers are Will and Paul.\n",
    "\n",
    "Using only the context above. Can you name my father?\n",
    "\"\"\")"
   ]
  },
  {
   "cell_type": "code",
   "execution_count": 73,
   "id": "701c6da1-1424-45ca-9fb1-a3bc2d010ccc",
   "metadata": {
    "execution": {
     "iopub.execute_input": "2023-07-28T13:29:29.674745Z",
     "iopub.status.busy": "2023-07-28T13:29:29.674400Z",
     "iopub.status.idle": "2023-07-28T13:29:43.415041Z",
     "shell.execute_reply": "2023-07-28T13:29:43.414754Z",
     "shell.execute_reply.started": "2023-07-28T13:29:29.674729Z"
    }
   },
   "outputs": [
    {
     "data": {
      "text/plain": [
       "'<pad> SELECT COUNT(*) FROM webtraffic'"
      ]
     },
     "execution_count": 73,
     "metadata": {},
     "output_type": "execute_result"
    }
   ],
   "source": [
    "local_llm(\"\"\"\n",
    "Convert the following English to SQL:\n",
    "\n",
    "Count how many locations we have in the webtraffic table\n",
    "\"\"\")"
   ]
  }
 ],
 "metadata": {
  "kernelspec": {
   "display_name": "Python 3 (ipykernel)",
   "language": "python",
   "name": "python3"
  },
  "language_info": {
   "codemirror_mode": {
    "name": "ipython",
    "version": 3
   },
   "file_extension": ".py",
   "mimetype": "text/x-python",
   "name": "python",
   "nbconvert_exporter": "python",
   "pygments_lexer": "ipython3",
   "version": "3.11.4"
  }
 },
 "nbformat": 4,
 "nbformat_minor": 5
}
